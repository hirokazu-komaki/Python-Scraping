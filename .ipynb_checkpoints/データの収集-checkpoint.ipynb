{
 "cells": [
  {
   "cell_type": "markdown",
   "id": "4f4f097c",
   "metadata": {},
   "source": [
    "### googleからデータの収集を行う"
   ]
  },
  {
   "cell_type": "code",
   "execution_count": 2,
   "id": "7e38d691",
   "metadata": {},
   "outputs": [],
   "source": [
    "from icrawler.builtin import GoogleImageCrawler\n",
    "import os"
   ]
  },
  {
   "cell_type": "code",
   "execution_count": 3,
   "id": "0c36491c",
   "metadata": {},
   "outputs": [],
   "source": [
    "# 画像を保存するフォルダを作成\n",
    "os.mkdir(\"images\")"
   ]
  },
  {
   "cell_type": "code",
   "execution_count": 4,
   "id": "58f20d68",
   "metadata": {},
   "outputs": [],
   "source": [
    "# 画像を保存する上記フォルダを指定\n",
    "crawler = GoogleImageCrawler(storage={'root_dir': 'images'})"
   ]
  },
  {
   "cell_type": "code",
   "execution_count": 5,
   "id": "ecf99de7",
   "metadata": {
    "scrolled": true
   },
   "outputs": [
    {
     "name": "stderr",
     "output_type": "stream",
     "text": [
      "2022-11-10 16:17:14,470 - INFO - icrawler.crawler - start crawling...\n",
      "2022-11-10 16:17:14,472 - INFO - icrawler.crawler - starting 1 feeder threads...\n",
      "2022-11-10 16:17:14,474 - INFO - feeder - thread feeder-001 exit\n",
      "2022-11-10 16:17:14,476 - INFO - icrawler.crawler - starting 1 parser threads...\n",
      "2022-11-10 16:17:14,479 - INFO - icrawler.crawler - starting 1 downloader threads...\n",
      "2022-11-10 16:17:15,309 - INFO - parser - parsing result page https://www.google.com/search?q=%E7%8A%AC&ijn=0&start=0&tbs=&tbm=isch\n",
      "2022-11-10 16:17:15,704 - INFO - downloader - image #1\thttps://skywardplus.jal.co.jp/wp-content/uploads/2020/07/shosai_dogday_main.jpg\n",
      "2022-11-10 16:17:15,952 - INFO - downloader - image #2\thttps://www.woodtec.co.jp/fordog/wp/wp-content/uploads/2021/09/col01-rank-01.jpg\n",
      "2022-11-10 16:17:17,147 - INFO - downloader - image #3\thttps://www.anicom-sompo.co.jp/inu/wp-content/uploads/2020/12/1397-1.jpg\n",
      "2022-11-10 16:17:17,253 - INFO - downloader - image #4\thttps://www.nippon.com/ja/ncommon/contents/japan-data/1940028/1940028.jpg\n",
      "2022-11-10 16:17:17,370 - INFO - downloader - image #5\thttps://www.pet-coo.com/coo_image/pet/photo/0060185001.jpg\n",
      "2022-11-10 16:17:17,513 - INFO - downloader - image #6\thttps://image.itmedia.co.jp/business/articles/2204/17/l_mk_inu_000.jpg\n",
      "2022-11-10 16:17:17,549 - INFO - downloader - image #7\thttps://www.anicom-sompo.co.jp/inu/wp-content/uploads/2021/02/2036_01.jpg\n",
      "2022-11-10 16:17:17,762 - INFO - downloader - image #8\thttps://www.chuo-a.ac.jp/anilab/wp-content/uploads/20211112chuo001.jpg\n",
      "2022-11-10 16:17:18,697 - ERROR - downloader - Response status code 404, file https://upload.wikimedia.org/wikipedia/commons/thumb/e/e3/Coat_types_3.jpg\n",
      "2022-11-10 16:17:18,825 - INFO - downloader - image #9\thttps://www.daiwahouse.co.jp/tryie/column/think/large_dog/images/mainVisual_smp.jpg\n",
      "2022-11-10 16:17:18,961 - INFO - downloader - image #10\thttps://www.i-sedai.com/pet/column/image/D0115_1.jpg\n",
      "2022-11-10 16:17:19,086 - INFO - downloader - image #11\thttps://www.axa-direct.co.jp/pet/pet-ms/img/media/detail/1663/img_1663_kv.jpg\n",
      "2022-11-10 16:17:19,191 - INFO - downloader - image #12\thttps://img.benesse-cms.jp/pet-dog/item/image/normal/84f5c312-7149-4a11-bc7c-f3b0bb9d619f.jpg\n",
      "2022-11-10 16:17:19,284 - INFO - downloader - image #13\thttps://media.loom-app.com/gizmodo/dist/images/2022/01/11/shutterstock_613557761.jpg\n",
      "2022-11-10 16:17:19,422 - INFO - downloader - image #14\thttps://newsatcl-pctr.c.yimg.jp/t/amd-img/20220906-10024149-it_nlab-000-1-view.jpg\n",
      "2022-11-10 16:17:19,553 - INFO - downloader - image #15\thttps://guide.line.me/ja/dogday_01.jpg\n",
      "2022-11-10 16:17:19,668 - INFO - downloader - image #16\thttps://pshoken.co.jp/uploads/2020/01/27/dog-symptom019a.jpg\n",
      "2022-11-10 16:17:19,782 - INFO - downloader - image #17\thttps://dol.ismcdn.jp/mwimgs/a/f/1320w/img_afa0fad37e6c4d5ce34c01faf54f9e79108563.jpg\n",
      "2022-11-10 16:17:20,076 - INFO - downloader - image #18\thttps://www.ana.co.jp/www2/travelandlife/article/id001001/001292/images/main_01.jpg\n",
      "2022-11-10 16:17:20,102 - INFO - downloader - image #19\thttps://newsatcl-pctr.c.yimg.jp/t/amd-img/20220905-10024070-it_nlab-000-1-view.jpg\n",
      "2022-11-10 16:17:20,262 - INFO - downloader - image #20\thttps://dime.jp/genre/files/2020/11/44817f7cc02f549d516a94cc2710c53f.png\n",
      "2022-11-10 16:17:20,367 - INFO - downloader - downloaded images reach max num, thread downloader-001 is ready to exit\n",
      "2022-11-10 16:17:20,368 - INFO - downloader - thread downloader-001 exit\n",
      "2022-11-10 16:17:20,496 - INFO - icrawler.crawler - Crawling task done!\n",
      "2022-11-10 16:17:21,268 - INFO - parser - downloaded image reached max num, thread parser-001 is ready to exit\n",
      "2022-11-10 16:17:21,268 - INFO - parser - thread parser-001 exit\n"
     ]
    }
   ],
   "source": [
    "# キーワードと最大枚数を指定して収集\n",
    "crawler.crawl(keyword=\"犬\", max_num=20)"
   ]
  },
  {
   "cell_type": "markdown",
   "id": "f5e2a9ad",
   "metadata": {},
   "source": [
    "この辺の仕組みも調べておきたい"
   ]
  },
  {
   "cell_type": "markdown",
   "id": "035c4fa3",
   "metadata": {},
   "source": [
    "### ブラウザの自動操作"
   ]
  },
  {
   "cell_type": "code",
   "execution_count": 7,
   "id": "19e53a9e",
   "metadata": {},
   "outputs": [],
   "source": [
    "import selenium"
   ]
  },
  {
   "cell_type": "code",
   "execution_count": 8,
   "id": "ca78431c",
   "metadata": {},
   "outputs": [],
   "source": [
    "from selenium import webdriver"
   ]
  },
  {
   "cell_type": "code",
   "execution_count": 10,
   "id": "dd147717",
   "metadata": {},
   "outputs": [],
   "source": [
    "# ブラウザを立ち上げる\n",
    "browser = webdriver.Chrome()"
   ]
  },
  {
   "cell_type": "markdown",
   "id": "1d3cae2a",
   "metadata": {},
   "source": [
    "この辺の仕組みも調べておきたい"
   ]
  },
  {
   "cell_type": "code",
   "execution_count": 11,
   "id": "95936f85",
   "metadata": {},
   "outputs": [],
   "source": [
    "# URLにアクセスしてみる\n",
    "url = \"https://sandbox.kikagaku.co.jp/test_scraping\"\n",
    "browser.get(url)"
   ]
  },
  {
   "cell_type": "markdown",
   "id": "7fe605fc",
   "metadata": {},
   "source": [
    "- アクションをしたい要素の抽出  \n",
    "- 要素へのアクションの適用"
   ]
  },
  {
   "cell_type": "code",
   "execution_count": 12,
   "id": "3b106ae8",
   "metadata": {},
   "outputs": [],
   "source": [
    "# idで要素を抽出\n",
    "elem_email = browser.find_element(by='id', value='inputEmail')"
   ]
  },
  {
   "cell_type": "code",
   "execution_count": 13,
   "id": "23a6559d",
   "metadata": {},
   "outputs": [
    {
     "data": {
      "text/plain": [
       "True"
      ]
     },
     "execution_count": 13,
     "metadata": {},
     "output_type": "execute_result"
    }
   ],
   "source": [
    "# 抽出した要素が有効化を確認\n",
    "elem_email.is_enabled()"
   ]
  },
  {
   "cell_type": "markdown",
   "id": "e17bd6ae",
   "metadata": {},
   "source": [
    "フォームへ文字を入力"
   ]
  },
  {
   "cell_type": "code",
   "execution_count": 14,
   "id": "f0e71837",
   "metadata": {},
   "outputs": [],
   "source": [
    "elem_email.send_keys('test@kikagaku.co.jp')"
   ]
  },
  {
   "cell_type": "code",
   "execution_count": 15,
   "id": "6e04a5db",
   "metadata": {},
   "outputs": [
    {
     "data": {
      "text/plain": [
       "True"
      ]
     },
     "execution_count": 15,
     "metadata": {},
     "output_type": "execute_result"
    }
   ],
   "source": [
    "# パスワードに対して\n",
    "elem_passwd = browser.find_element(by='id', value='inputPassword')\n",
    "elem_passwd.is_enabled()"
   ]
  },
  {
   "cell_type": "code",
   "execution_count": 16,
   "id": "6d8f4d6b",
   "metadata": {},
   "outputs": [],
   "source": [
    "elem_passwd.send_keys('testpass')"
   ]
  },
  {
   "cell_type": "code",
   "execution_count": 17,
   "id": "01cf7fb9",
   "metadata": {},
   "outputs": [],
   "source": [
    "# Sign inボタンを押す操作\n",
    "elem_btn = browser.find_element(by='id', value='btn')\n",
    "elem_btn.click()"
   ]
  },
  {
   "cell_type": "code",
   "execution_count": 21,
   "id": "c65fb840",
   "metadata": {},
   "outputs": [
    {
     "ename": "InvalidArgumentException",
     "evalue": "Message: invalid argument: invalid locator\n  (Session info: chrome=107.0.5304.110)\nStacktrace:\n0   chromedriver                        0x00000001076b12c8 chromedriver + 4752072\n1   chromedriver                        0x0000000107631463 chromedriver + 4228195\n2   chromedriver                        0x0000000107294b18 chromedriver + 441112\n3   chromedriver                        0x00000001072d179c chromedriver + 690076\n4   chromedriver                        0x00000001072d2061 chromedriver + 692321\n5   chromedriver                        0x000000010730d5e4 chromedriver + 935396\n6   chromedriver                        0x00000001072f2d2d chromedriver + 826669\n7   chromedriver                        0x000000010730b134 chromedriver + 926004\n8   chromedriver                        0x00000001072f2b33 chromedriver + 826163\n9   chromedriver                        0x00000001072c39fd chromedriver + 633341\n10  chromedriver                        0x00000001072c5051 chromedriver + 639057\n11  chromedriver                        0x000000010767e30e chromedriver + 4543246\n12  chromedriver                        0x0000000107682a88 chromedriver + 4561544\n13  chromedriver                        0x000000010768a6df chromedriver + 4593375\n14  chromedriver                        0x00000001076838fa chromedriver + 4565242\n15  chromedriver                        0x00000001076592cf chromedriver + 4391631\n16  chromedriver                        0x00000001076a25b8 chromedriver + 4691384\n17  chromedriver                        0x00000001076a2739 chromedriver + 4691769\n18  chromedriver                        0x00000001076b881e chromedriver + 4782110\n19  libsystem_pthread.dylib             0x00007ff80cf4b259 _pthread_start + 125\n20  libsystem_pthread.dylib             0x00007ff80cf46c7b thread_start + 15\n",
     "output_type": "error",
     "traceback": [
      "\u001b[0;31m---------------------------------------------------------------------------\u001b[0m",
      "\u001b[0;31mInvalidArgumentException\u001b[0m                  Traceback (most recent call last)",
      "Cell \u001b[0;32mIn [21], line 2\u001b[0m\n\u001b[1;32m      1\u001b[0m \u001b[38;5;66;03m# ページのテキストをとってくる\u001b[39;00m\n\u001b[0;32m----> 2\u001b[0m elem_text \u001b[38;5;241m=\u001b[39m \u001b[43mbrowser\u001b[49m\u001b[38;5;241;43m.\u001b[39;49m\u001b[43mfind_element\u001b[49m\u001b[43m(\u001b[49m\u001b[43mby\u001b[49m\u001b[38;5;241;43m=\u001b[39;49m\u001b[38;5;124;43m'\u001b[39;49m\u001b[38;5;124;43mclass_name\u001b[39;49m\u001b[38;5;124;43m'\u001b[39;49m\u001b[43m,\u001b[49m\u001b[43m \u001b[49m\u001b[43mvalue\u001b[49m\u001b[38;5;241;43m=\u001b[39;49m\u001b[38;5;124;43m'\u001b[39;49m\u001b[38;5;124;43mbody\u001b[39;49m\u001b[38;5;124;43m'\u001b[39;49m\u001b[43m)\u001b[49m\n\u001b[1;32m      3\u001b[0m elem_text\u001b[38;5;241m.\u001b[39mtext\n",
      "File \u001b[0;32m/Library/Frameworks/Python.framework/Versions/3.9/lib/python3.9/site-packages/selenium/webdriver/remote/webdriver.py:861\u001b[0m, in \u001b[0;36mWebDriver.find_element\u001b[0;34m(self, by, value)\u001b[0m\n\u001b[1;32m    858\u001b[0m     by \u001b[38;5;241m=\u001b[39m By\u001b[38;5;241m.\u001b[39mCSS_SELECTOR\n\u001b[1;32m    859\u001b[0m     value \u001b[38;5;241m=\u001b[39m \u001b[38;5;124m'\u001b[39m\u001b[38;5;124m[name=\u001b[39m\u001b[38;5;124m\"\u001b[39m\u001b[38;5;132;01m%s\u001b[39;00m\u001b[38;5;124m\"\u001b[39m\u001b[38;5;124m]\u001b[39m\u001b[38;5;124m'\u001b[39m \u001b[38;5;241m%\u001b[39m value\n\u001b[0;32m--> 861\u001b[0m \u001b[38;5;28;01mreturn\u001b[39;00m \u001b[38;5;28;43mself\u001b[39;49m\u001b[38;5;241;43m.\u001b[39;49m\u001b[43mexecute\u001b[49m\u001b[43m(\u001b[49m\u001b[43mCommand\u001b[49m\u001b[38;5;241;43m.\u001b[39;49m\u001b[43mFIND_ELEMENT\u001b[49m\u001b[43m,\u001b[49m\u001b[43m \u001b[49m\u001b[43m{\u001b[49m\u001b[38;5;124;43m\"\u001b[39;49m\u001b[38;5;124;43musing\u001b[39;49m\u001b[38;5;124;43m\"\u001b[39;49m\u001b[43m:\u001b[49m\u001b[43m \u001b[49m\u001b[43mby\u001b[49m\u001b[43m,\u001b[49m\u001b[43m \u001b[49m\u001b[38;5;124;43m\"\u001b[39;49m\u001b[38;5;124;43mvalue\u001b[39;49m\u001b[38;5;124;43m\"\u001b[39;49m\u001b[43m:\u001b[49m\u001b[43m \u001b[49m\u001b[43mvalue\u001b[49m\u001b[43m}\u001b[49m\u001b[43m)\u001b[49m[\u001b[38;5;124m\"\u001b[39m\u001b[38;5;124mvalue\u001b[39m\u001b[38;5;124m\"\u001b[39m]\n",
      "File \u001b[0;32m/Library/Frameworks/Python.framework/Versions/3.9/lib/python3.9/site-packages/selenium/webdriver/remote/webdriver.py:444\u001b[0m, in \u001b[0;36mWebDriver.execute\u001b[0;34m(self, driver_command, params)\u001b[0m\n\u001b[1;32m    442\u001b[0m response \u001b[38;5;241m=\u001b[39m \u001b[38;5;28mself\u001b[39m\u001b[38;5;241m.\u001b[39mcommand_executor\u001b[38;5;241m.\u001b[39mexecute(driver_command, params)\n\u001b[1;32m    443\u001b[0m \u001b[38;5;28;01mif\u001b[39;00m response:\n\u001b[0;32m--> 444\u001b[0m     \u001b[38;5;28;43mself\u001b[39;49m\u001b[38;5;241;43m.\u001b[39;49m\u001b[43merror_handler\u001b[49m\u001b[38;5;241;43m.\u001b[39;49m\u001b[43mcheck_response\u001b[49m\u001b[43m(\u001b[49m\u001b[43mresponse\u001b[49m\u001b[43m)\u001b[49m\n\u001b[1;32m    445\u001b[0m     response[\u001b[38;5;124m\"\u001b[39m\u001b[38;5;124mvalue\u001b[39m\u001b[38;5;124m\"\u001b[39m] \u001b[38;5;241m=\u001b[39m \u001b[38;5;28mself\u001b[39m\u001b[38;5;241m.\u001b[39m_unwrap_value(response\u001b[38;5;241m.\u001b[39mget(\u001b[38;5;124m\"\u001b[39m\u001b[38;5;124mvalue\u001b[39m\u001b[38;5;124m\"\u001b[39m, \u001b[38;5;28;01mNone\u001b[39;00m))\n\u001b[1;32m    446\u001b[0m     \u001b[38;5;28;01mreturn\u001b[39;00m response\n",
      "File \u001b[0;32m/Library/Frameworks/Python.framework/Versions/3.9/lib/python3.9/site-packages/selenium/webdriver/remote/errorhandler.py:249\u001b[0m, in \u001b[0;36mErrorHandler.check_response\u001b[0;34m(self, response)\u001b[0m\n\u001b[1;32m    247\u001b[0m         alert_text \u001b[38;5;241m=\u001b[39m value[\u001b[38;5;124m\"\u001b[39m\u001b[38;5;124malert\u001b[39m\u001b[38;5;124m\"\u001b[39m]\u001b[38;5;241m.\u001b[39mget(\u001b[38;5;124m\"\u001b[39m\u001b[38;5;124mtext\u001b[39m\u001b[38;5;124m\"\u001b[39m)\n\u001b[1;32m    248\u001b[0m     \u001b[38;5;28;01mraise\u001b[39;00m exception_class(message, screen, stacktrace, alert_text)  \u001b[38;5;66;03m# type: ignore[call-arg]  # mypy is not smart enough here\u001b[39;00m\n\u001b[0;32m--> 249\u001b[0m \u001b[38;5;28;01mraise\u001b[39;00m exception_class(message, screen, stacktrace)\n",
      "\u001b[0;31mInvalidArgumentException\u001b[0m: Message: invalid argument: invalid locator\n  (Session info: chrome=107.0.5304.110)\nStacktrace:\n0   chromedriver                        0x00000001076b12c8 chromedriver + 4752072\n1   chromedriver                        0x0000000107631463 chromedriver + 4228195\n2   chromedriver                        0x0000000107294b18 chromedriver + 441112\n3   chromedriver                        0x00000001072d179c chromedriver + 690076\n4   chromedriver                        0x00000001072d2061 chromedriver + 692321\n5   chromedriver                        0x000000010730d5e4 chromedriver + 935396\n6   chromedriver                        0x00000001072f2d2d chromedriver + 826669\n7   chromedriver                        0x000000010730b134 chromedriver + 926004\n8   chromedriver                        0x00000001072f2b33 chromedriver + 826163\n9   chromedriver                        0x00000001072c39fd chromedriver + 633341\n10  chromedriver                        0x00000001072c5051 chromedriver + 639057\n11  chromedriver                        0x000000010767e30e chromedriver + 4543246\n12  chromedriver                        0x0000000107682a88 chromedriver + 4561544\n13  chromedriver                        0x000000010768a6df chromedriver + 4593375\n14  chromedriver                        0x00000001076838fa chromedriver + 4565242\n15  chromedriver                        0x00000001076592cf chromedriver + 4391631\n16  chromedriver                        0x00000001076a25b8 chromedriver + 4691384\n17  chromedriver                        0x00000001076a2739 chromedriver + 4691769\n18  chromedriver                        0x00000001076b881e chromedriver + 4782110\n19  libsystem_pthread.dylib             0x00007ff80cf4b259 _pthread_start + 125\n20  libsystem_pthread.dylib             0x00007ff80cf46c7b thread_start + 15\n"
     ]
    }
   ],
   "source": [
    "# ページのテキストをとってくる\n",
    "elem_text = browser.find_element(by='class_name', value='body')\n",
    "elem_text.text"
   ]
  },
  {
   "cell_type": "code",
   "execution_count": null,
   "id": "e69a5e54",
   "metadata": {},
   "outputs": [],
   "source": []
  }
 ],
 "metadata": {
  "kernelspec": {
   "display_name": "Python 3 (ipykernel)",
   "language": "python",
   "name": "python3"
  },
  "language_info": {
   "codemirror_mode": {
    "name": "ipython",
    "version": 3
   },
   "file_extension": ".py",
   "mimetype": "text/x-python",
   "name": "python",
   "nbconvert_exporter": "python",
   "pygments_lexer": "ipython3",
   "version": "3.9.5"
  }
 },
 "nbformat": 4,
 "nbformat_minor": 5
}
